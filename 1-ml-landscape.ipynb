{
 "cells": [
  {
   "cell_type": "markdown",
   "metadata": {},
   "source": [
    "# The Machine Learning Landscape"
   ]
  },
  {
   "cell_type": "markdown",
   "metadata": {},
   "source": [
    "## What Is Machine Learning?\n",
    "- `Machine Learning` is the science (and art) of programming computers so they can *learn from data*.\n",
    "    - Your spam filter is a Machine Learning program that, given examples of spam emails (flagged by users) and examples of regular (nonspam, also called \"ham) emails, can learn to flag spam.\n",
    "- The examples that the system uses to learn are called the `training set`. Each training example is called a `training instance` (or sample).\n",
    "    - In this case, the task T is to flag spam for new emails, the experience E is the training data, and the performance measure P needs to be defined; for example, you can use the ratio of correctly classified emails.\n",
    "- This particular performance measure is called `accuracy`, and it is often used in classification tasks."
   ]
  },
  {
   "cell_type": "markdown",
   "metadata": {},
   "source": [
    "## Why Use Machine Learning?\n",
    "- Problems for which existing solutions require a lot of fine-tuning or long lists of rules: one Machine Learning algorithm can often simplify code and perform better than the traditional approach.\n",
    "- Complex problems for which using a traditional approach yields no good solution: the best Machine Learning techniques can perhaps find a solution.\n",
    "- Fluctuating environments: a Machine Learning system can adapt to new data.\n",
    "- Getting insights about complex problems and large amounts of data.\n",
    "- Applying ML techniques to dig into large amounts of data can help discover patterns that were not immediately apparent. This is called `data mining`.\n",
    "    - Ex: patterns in spam emails"
   ]
  },
  {
   "cell_type": "markdown",
   "metadata": {},
   "source": [
    "## Examples of Applications\n",
    "- Analyzing images of products on a production line to automatically classify them\n",
    "- Detecting tumors in brain scans\n",
    "- Automatically classifying news articles\n",
    "- Automatically flagging offensive comments on discussion forums\n",
    "- Summarizing long documents automatically\n",
    "- Forecasting your company's revenue next year, based on many performance metrics\n",
    "- Making your app react to voice commands\n",
    "- Detecting credit card fraud\n",
    "- Segmenting clients based on their purchases so that you can design a different marketing strategy for each segment\n",
    "- Representing a complex, high-dimensional dataset in a clear and insightful diagram\n",
    "- Recommending a product that a client may be interested in, based on past purchases\n",
    "- Building an intelligent bot for a game"
   ]
  },
  {
   "cell_type": "markdown",
   "metadata": {},
   "source": [
    "## Types of Machine Learning Systems\n",
    "- Whether or not they are trained with human supervision (supervised, unsupervised, semisupervised, and Reinforcement Learning)\n",
    "- Whether or not they can learn incrementally on the fly (online versus batch learning)\n",
    "- Whether they work by simply comparing new data points to known data points, or instead by detecting patterns in the training data and building a predictive model, much like scientists do (instance-based versus model-based learning)"
   ]
  },
  {
   "cell_type": "markdown",
   "metadata": {},
   "source": [
    "## Supervised/Unsupervised Learning\n",
    "- There are four major categories: supervised, unsupervised, semisupervised, and Reinforcement Learning\n",
    "#### Supervised Learning\n",
    "- In `supervised learning`, the training set you feed to the algorithm includes the desired solutions, called `labels`.\n",
    "- A typical supervised learning task is `classification`.\n",
    "    - The spam filter is good example of this: it is trained with many example emails along with their *class* (spam or ham), and it must learn how to classify new emails.\n",
    "- Another typical task is to predict `target` numeric value, such as the price of a car, given a set of `features` (milage, age, brand, etc.) called `predictors`. This sort of task is called `regression`. To train the system, you need to give it many examples of cars, including both their predictors and their labels (i.e., their prices).\n",
    "- ***Note**: In Machine Learning an `attribute` is a data type (e.g., \"mileage\"), while a `feature` has several meanings, depending on the context, but generally means an attribute plus ite value (e.g., \"mileage = 15000\"). Many people use the words attribute and feature interchangeably.*\n",
    "- Some regression algorithms can be used for classification as well, and vice versa. For example, `Logistic Regression` is commonly used for classification, as it can output a value that corresponds to the probability of belonging to a given class (e.g., 20% chance of being spam)\n",
    "- Some of the most important supervised learning algorithms:\n",
    "    - k-Nearest Neighbors\n",
    "    - Linear Regression\n",
    "    - Logistic Regression\n",
    "    - Support Vector Machines (SVMs)\n",
    "    - Decision Trees and Random Forests\n",
    "    - Neural Networks\n",
    "#### Unsupervised Learning\n",
    "- In `unsupervised learning` the training data is unlabeled. This system tries to learn without a teacher.\n",
    "- Some of the most important unsupervised learning algorithms:\n",
    "    - Clustering\n",
    "        - K-Means\n",
    "        - DBSCAN\n",
    "        - Hierarchical Cluster Analysis (HCA)\n",
    "    - Anomaly detection and novelty detection\n",
    "        - One-class SVM\n",
    "        - Isolation\n",
    "    - Visualization and dimensionality reduction\n",
    "        - Principal Component Analysis (PCA)\n",
    "        - Kernal PCA\n",
    "        - Locally Linear Embedding (LLE)\n",
    "        - t-Distributed Stochastic Neighbor Embedding (t-SNE)\n",
    "    - Association rule learning \n",
    "        - Apriori\n",
    "        - Eclat\n",
    "- For example, say you have a lot of data about your blog's visitors. You may want to run a `clustering` algorithm to try to detect groups of similar visitors. At no point do you tell the algorithm which group a visitor belongs to: it finds those connections without your help. For example, it might notice that 40% of your visitors are males who love comic books and generally read your blog in the evening, while 20% are young sci-fi lovers who visit during the weekends.\n",
    "- If you can use a `hierarchical clustering` algorithm, it may also subdivide each group into smaller groups. This may help you target your posts for each group.\n",
    "- `Visualization` algorithms are also good examples of unsupervised learning algorithms: you feed them a lot of complex and unlabeled data, and they output 2D and 3D representation of your data that can easily be plotted. These algorithms try to preserve as much structure as they can (e.g., trying to keep separate clusters in the input space from overlapping in the visualization) so that you can understand how the data is organized and perhaps identify unsuspected patterns.\n",
    "- A related task is `dimensionality reduction`, in which the goal is to simplify the data without losing too much information. One way to do this is to merge several correlated features into one.\n",
    "    - For example, a car's milage may be strongly correlated with its age, so the dimensionality reduction algorithm will merge them into one that represents the car's wear and tear. This is called `feature extraction`.\n",
    "- ***Tip**: It is often a good idea to try to reduce the dimension of your training data using a dimensionality reduction algorithm before you feed it to another Machine Learning algorithm (such as a supervised learning algorithm). It will run much faster, the data will take up less disk and memory space, and in some cases it may also perform before.*\n",
    "- Yet another important unsupervised task is `anomaly detection`\n",
    "    - For example, detecting unusual credit card transactions to prevent fraud, catching manufacturing defects, or automatically removing outliers from a dataset before feeding it to another learning algorithm.\n",
    "- A very similar task is `novelty detection`: it aims to detect new instances that look different from all instances in the training set. This requires \n"
   ]
  }
 ],
 "metadata": {
  "language_info": {
   "name": "python"
  }
 },
 "nbformat": 4,
 "nbformat_minor": 2
}
